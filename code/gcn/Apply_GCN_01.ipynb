{
 "cells": [
  {
   "cell_type": "code",
   "execution_count": 1,
   "metadata": {},
   "outputs": [
    {
     "name": "stderr",
     "output_type": "stream",
     "text": [
      "Using backend: pytorch\n"
     ]
    }
   ],
   "source": [
    "import dgl\n",
    "import torch\n",
    "from dgl.data import MiniGCDataset\n",
    "import matplotlib.pyplot as plt\n",
    "import networkx as nx"
   ]
  },
  {
   "cell_type": "code",
   "execution_count": 2,
   "metadata": {},
   "outputs": [],
   "source": [
    "from dgl.nn.pytorch import GraphConv"
   ]
  },
  {
   "cell_type": "code",
   "execution_count": 3,
   "metadata": {},
   "outputs": [],
   "source": [
    "import torch.nn as nn\n",
    "import torch.nn.functional as F\n",
    "\n",
    "class Classifier(nn.Module):\n",
    "    def __init__(self, in_dim, hidden_dim, n_classes):\n",
    "        super(Classifier, self).__init__()\n",
    "        self.conv1 = GraphConv(in_dim, hidden_dim)\n",
    "        self.conv2 = GraphConv(hidden_dim, hidden_dim)\n",
    "        self.classify = nn.Linear(hidden_dim, n_classes)\n",
    "\n",
    "    def forward(self, g,h):\n",
    "        # Use node degree as the initial node feature. For undirected graphs, the in-degree\n",
    "        # is the same as the out_degree.\n",
    "        #h = g.in_degrees().view(-1, 1).float()\n",
    "        # Perform graph convolution and activation function.\n",
    "        h = F.relu(self.conv1(g, h))\n",
    "        h = F.relu(self.conv2(g, h))\n",
    "        g.ndata['h'] = h\n",
    "        # Calculate graph representation by averaging all the node representations.\n",
    "        hg = dgl.sum_nodes(g, 'h')\n",
    "        return self.classify(hg)"
   ]
  },
  {
   "cell_type": "code",
   "execution_count": 13,
   "metadata": {},
   "outputs": [
    {
     "name": "stdout",
     "output_type": "stream",
     "text": [
      "Classifier(\n",
      "  (conv1): GraphConv(in=17, out=64, normalization=both, activation=None)\n",
      "  (conv2): GraphConv(in=64, out=64, normalization=both, activation=None)\n",
      "  (classify): Linear(in_features=64, out_features=3, bias=True)\n",
      ")\n"
     ]
    }
   ],
   "source": [
    "print(model)"
   ]
  },
  {
   "cell_type": "code",
   "execution_count": 14,
   "metadata": {},
   "outputs": [
    {
     "name": "stdout",
     "output_type": "stream",
     "text": [
      "conv1.weight : torch.Size([17, 64])\n",
      "conv1.bias : torch.Size([64])\n",
      "conv2.weight : torch.Size([64, 64])\n",
      "conv2.bias : torch.Size([64])\n",
      "classify.weight : torch.Size([3, 64])\n",
      "classify.bias : torch.Size([3])\n"
     ]
    }
   ],
   "source": [
    "for name, parameters in model.named_parameters():\n",
    "    print(name, ':', parameters.size())"
   ]
  },
  {
   "cell_type": "code",
   "execution_count": 4,
   "metadata": {},
   "outputs": [],
   "source": [
    "import torch.optim as optim\n",
    "#from dataloader import GraphDataLoader\n",
    "\n",
    "from torch.utils.data import DataLoader"
   ]
  },
  {
   "cell_type": "code",
   "execution_count": 5,
   "metadata": {},
   "outputs": [],
   "source": [
    "import pickle\n",
    "import random\n",
    "\n",
    "# #data_2880_2021\n",
    "# dataset_name1 = \"/home/dldx/UniRep/dataset/data_2880_2021.p\"\n",
    "# with open(\"/home/dldx/UniRep/data/5fyj_1440.p\", 'rb') as f:                      \n",
    "#     graph = pickle.load(f)\n",
    "# print(len(graph))\n",
    "\n",
    "# dataset=[]\n",
    "# for i in range(48):\n",
    "#     dataset.append(graph[i*30])\n",
    "# len(dataset)"
   ]
  },
  {
   "cell_type": "code",
   "execution_count": 6,
   "metadata": {},
   "outputs": [],
   "source": [
    "# A4ZPX2\n",
    "tied1_name_l = ['Q5G5V8','Q5G5V4','Q6EG58','A4ZPW4','P04578','Q4QXE8','A8CVW4','Q2MKA8','A1EAH8','A1EAI4','Q27Q69','Q70014','B2YFU9','B2YFQ5','O89960']\n",
    "tied1_name_l.sort()\n",
    "# A1EAI3\n",
    "tied2_name_l = ['Q5G5U7','Q5G5U5','A7KVY7','Q5G5V1','B0FBI6','Q5G5V5','A1EAI2','A1EAI0','Q6TCV7','Q202K1','Q202K7','Q27Q74','A1EAI7','B2YFT0','Q8JDI3']\n",
    "tied2_name_l.sort()\n",
    "# A4ZPW9\n",
    "tied3_name_l = ['A4ZPX1','A4ZPW7','A4ZPW8','Q5G5V2','Q5G5U6','A1EAG8','A1EAH7','A0MTL0','A1EAH6','A1EAH3','B2YFP6','B2YFP1','B2YFU4','B2YFV4','B2YFS0']\n",
    "tied3_name_l.sort()\n",
    "tied_name=tied1_name_l+tied2_name_l+tied3_name_l"
   ]
  },
  {
   "cell_type": "code",
   "execution_count": 7,
   "metadata": {},
   "outputs": [],
   "source": [
    "# data45_true=[]\n",
    "# for i in range(48):\n",
    "#     name=dataset[i][-1].split('-')[1]\n",
    "#     if name in tied_name:\n",
    "#         data45_true.append(dataset[i])\n",
    "        "
   ]
  },
  {
   "cell_type": "code",
   "execution_count": 8,
   "metadata": {},
   "outputs": [
    {
     "name": "stdout",
     "output_type": "stream",
     "text": [
      "45\n"
     ]
    }
   ],
   "source": [
    "with open(\"/home/dldx/UniRep/data/data45_true.p\", 'rb') as f:                      \n",
    "    graph = pickle.load(f)\n",
    "print(len(graph))"
   ]
  },
  {
   "cell_type": "code",
   "execution_count": 9,
   "metadata": {},
   "outputs": [],
   "source": [
    "# default collate function\n",
    "def collate(samples):\n",
    "    # The input `samples` is a list of pairs (graph, label).\n",
    "    graphs, labels,_ = map(list, zip(*samples))\n",
    "    for g in graphs:\n",
    "        # deal with node feats\n",
    "        for key in g.node_attr_schemes().keys():\n",
    "            g.ndata[key] = g.ndata[key].float()\n",
    "        # no edge feats\n",
    "    batched_graph = dgl.batch(graphs)\n",
    "    labels = torch.tensor(labels)\n",
    "    return batched_graph, labels"
   ]
  },
  {
   "cell_type": "code",
   "execution_count": 10,
   "metadata": {},
   "outputs": [],
   "source": [
    "t1_loader = DataLoader(graph, batch_size=45, shuffle=True, collate_fn=collate)"
   ]
  },
  {
   "cell_type": "code",
   "execution_count": 54,
   "metadata": {},
   "outputs": [],
   "source": [
    "\n",
    "# Use DGL's GraphDataLoader. It by default handles the\n",
    "# graph batching operation for every mini-batch.\n",
    "#data_loader = DataLoader(trainset, batch_size=32, collate_fn=collate,shuffle=True)"
   ]
  },
  {
   "cell_type": "code",
   "execution_count": 58,
   "metadata": {},
   "outputs": [
    {
     "data": {
      "image/png": "[encoded data removed]",
      "text/plain": [
       "<Figure size 432x288 with 1 Axes>"
      ]
     },
     "metadata": {},
     "output_type": "display_data"
    }
   ],
   "source": [
    "plt.plot(epoch_losses, color=(0.1,0.2,0.3))\n",
    "# plt.xlim([0, 500])\n",
    "# plt.ylim([0.0, 1.05])\n",
    "plt.xlabel('epoch')\n",
    "plt.ylabel('loss')\n",
    "plt.title('loss')\n",
    "# plt.legend(loc=\"lower right\")\n",
    "plt.show()"
   ]
  },
  {
   "cell_type": "code",
   "execution_count": 55,
   "metadata": {},
   "outputs": [
    {
     "data": {
      "text/plain": [
       "<torch.utils.data.dataloader.DataLoader at 0x7f454da61550>"
      ]
     },
     "execution_count": 55,
     "metadata": {},
     "output_type": "execute_result"
    }
   ],
   "source": [
    "t1_loader"
   ]
  },
  {
   "cell_type": "code",
   "execution_count": 11,
   "metadata": {},
   "outputs": [
    {
     "name": "stdout",
     "output_type": "stream",
     "text": [
      "cuda\n"
     ]
    }
   ],
   "source": [
    "#trainset.num_classes\n",
    "# set up seeds, args.seed supported\n",
    "import numpy as np\n",
    "seed=2021\n",
    "torch.manual_seed(seed=seed)\n",
    "np.random.seed(seed=seed)\n",
    "\n",
    "#指定GPU\n",
    "torch.cuda.set_device(1)\n",
    "if torch.cuda.is_available():\n",
    "\n",
    "    device = torch.device(\"cuda\")\n",
    "    torch.cuda.manual_seed_all(seed=seed)\n",
    "else:\n",
    "    device = torch.device(\"cpu\")\n",
    "print(device)\n",
    "#device = torch.device(\"cpu\")"
   ]
  },
  {
   "cell_type": "code",
   "execution_count": 12,
   "metadata": {},
   "outputs": [
    {
     "name": "stdout",
     "output_type": "stream",
     "text": [
      "Epoch 0, loss 10.7374, acc 0.3333\n",
      "Epoch 1, loss 6.8380, acc 0.3333\n",
      "Epoch 2, loss 3.9146, acc 0.3556\n",
      "Epoch 3, loss 3.2211, acc 0.3333\n",
      "Epoch 4, loss 2.0257, acc 0.3333\n",
      "Epoch 5, loss 2.8286, acc 0.3333\n",
      "Epoch 6, loss 3.7000, acc 0.3333\n",
      "Epoch 7, loss 3.4128, acc 0.3333\n",
      "Epoch 8, loss 2.4076, acc 0.3333\n",
      "Epoch 9, loss 1.2803, acc 0.3333\n",
      "Epoch 10, loss 1.2021, acc 0.3556\n",
      "Epoch 11, loss 1.7129, acc 0.3333\n",
      "Epoch 12, loss 2.1206, acc 0.3333\n",
      "Epoch 13, loss 2.2722, acc 0.3333\n",
      "Epoch 14, loss 2.1928, acc 0.3333\n",
      "Epoch 15, loss 1.9741, acc 0.3556\n",
      "Epoch 16, loss 1.6682, acc 0.3556\n",
      "Epoch 17, loss 1.2937, acc 0.3556\n",
      "Epoch 18, loss 1.0466, acc 0.4667\n",
      "Epoch 19, loss 1.2937, acc 0.3333\n",
      "Epoch 20, loss 1.6273, acc 0.3333\n",
      "Epoch 21, loss 1.5999, acc 0.3333\n",
      "Epoch 22, loss 1.2823, acc 0.3333\n",
      "Epoch 23, loss 1.0352, acc 0.3333\n",
      "Epoch 24, loss 1.0894, acc 0.3556\n",
      "Epoch 25, loss 1.2484, acc 0.3556\n",
      "Epoch 26, loss 1.3437, acc 0.3333\n",
      "Epoch 27, loss 1.3343, acc 0.3778\n",
      "Epoch 28, loss 1.2335, acc 0.3333\n",
      "Epoch 29, loss 1.0965, acc 0.3556\n",
      "Epoch 30, loss 1.0250, acc 0.4667\n",
      "Epoch 31, loss 1.0894, acc 0.3333\n",
      "Epoch 32, loss 1.1913, acc 0.3333\n",
      "Epoch 33, loss 1.1910, acc 0.3333\n",
      "Epoch 34, loss 1.0956, acc 0.3333\n",
      "Epoch 35, loss 1.0235, acc 0.4667\n",
      "Epoch 36, loss 1.0399, acc 0.4222\n",
      "Epoch 37, loss 1.0940, acc 0.3778\n",
      "Epoch 38, loss 1.1200, acc 0.3778\n",
      "Epoch 39, loss 1.0968, acc 0.3333\n",
      "Epoch 40, loss 1.0451, acc 0.3778\n",
      "Epoch 41, loss 1.0109, acc 0.4667\n",
      "Epoch 42, loss 1.0246, acc 0.3333\n",
      "Epoch 43, loss 1.0586, acc 0.3333\n",
      "Epoch 44, loss 1.0612, acc 0.3333\n",
      "Epoch 45, loss 1.0285, acc 0.3333\n",
      "Epoch 46, loss 1.0018, acc 0.4444\n",
      "Epoch 47, loss 1.0058, acc 0.4889\n",
      "Epoch 48, loss 1.0232, acc 0.4444\n",
      "Epoch 49, loss 1.0283, acc 0.4667\n",
      "Epoch 50, loss 1.0146, acc 0.4667\n",
      "Epoch 51, loss 0.9972, acc 0.4667\n",
      "Epoch 52, loss 0.9951, acc 0.4667\n",
      "Epoch 53, loss 1.0068, acc 0.4222\n",
      "Epoch 54, loss 1.0119, acc 0.3778\n",
      "Epoch 55, loss 1.0021, acc 0.4444\n",
      "Epoch 56, loss 0.9915, acc 0.4667\n",
      "Epoch 57, loss 0.9920, acc 0.4667\n",
      "Epoch 58, loss 0.9980, acc 0.4667\n",
      "Epoch 59, loss 0.9992, acc 0.4667\n",
      "Epoch 60, loss 0.9936, acc 0.4889\n",
      "Epoch 61, loss 0.9875, acc 0.5333\n",
      "Epoch 62, loss 0.9874, acc 0.4667\n",
      "Epoch 63, loss 0.9906, acc 0.4444\n",
      "Epoch 64, loss 0.9906, acc 0.4444\n",
      "Epoch 65, loss 0.9869, acc 0.4667\n",
      "Epoch 66, loss 0.9839, acc 0.4667\n",
      "Epoch 67, loss 0.9838, acc 0.4667\n",
      "Epoch 68, loss 0.9850, acc 0.4667\n",
      "Epoch 69, loss 0.9848, acc 0.5111\n",
      "Epoch 70, loss 0.9824, acc 0.4667\n",
      "Epoch 71, loss 0.9803, acc 0.5111\n",
      "Epoch 72, loss 0.9804, acc 0.4667\n",
      "Epoch 73, loss 0.9812, acc 0.4667\n",
      "Epoch 74, loss 0.9806, acc 0.4667\n",
      "Epoch 75, loss 0.9786, acc 0.4667\n",
      "Epoch 76, loss 0.9775, acc 0.4667\n",
      "Epoch 77, loss 0.9778, acc 0.4667\n",
      "Epoch 78, loss 0.9782, acc 0.5333\n",
      "Epoch 79, loss 0.9771, acc 0.4889\n",
      "Epoch 80, loss 0.9757, acc 0.4889\n",
      "Epoch 81, loss 0.9754, acc 0.4667\n",
      "Epoch 82, loss 0.9758, acc 0.4667\n",
      "Epoch 83, loss 0.9755, acc 0.4667\n",
      "Epoch 84, loss 0.9744, acc 0.4667\n",
      "Epoch 85, loss 0.9738, acc 0.4444\n",
      "Epoch 86, loss 0.9738, acc 0.4667\n",
      "Epoch 87, loss 0.9738, acc 0.4889\n",
      "Epoch 88, loss 0.9732, acc 0.5111\n",
      "Epoch 89, loss 0.9726, acc 0.4667\n",
      "Epoch 90, loss 0.9724, acc 0.4667\n",
      "Epoch 91, loss 0.9724, acc 0.4667\n",
      "Epoch 92, loss 0.9721, acc 0.4667\n",
      "Epoch 93, loss 0.9716, acc 0.4444\n",
      "Epoch 94, loss 0.9713, acc 0.4889\n",
      "Epoch 95, loss 0.9712, acc 0.5111\n",
      "Epoch 96, loss 0.9711, acc 0.4889\n",
      "Epoch 97, loss 0.9708, acc 0.4889\n",
      "Epoch 98, loss 0.9704, acc 0.4444\n",
      "Epoch 99, loss 0.9703, acc 0.4444\n"
     ]
    }
   ],
   "source": [
    "# Create model\n",
    "num_classes=3\n",
    "model = Classifier(17, 64, num_classes).to(device)\n",
    "loss_func = nn.CrossEntropyLoss()\n",
    "optimizer = optim.Adam(model.parameters(), lr=0.001)\n",
    "model.train()\n",
    "\n",
    "epoch_acc=[]\n",
    "epoch_losses = []\n",
    "for epoch in range(100):\n",
    "    epoch_loss = 0\n",
    "    total = 0\n",
    "    total_loss = 0\n",
    "    total_correct = 0\n",
    "    for iter, (bg, label) in enumerate(t1_loader):\n",
    "        feat = bg.ndata['feat'].float().to(device)\n",
    "        label=label.to(device)\n",
    "        prediction = model(bg,feat)\n",
    "        loss = loss_func(prediction, label)\n",
    "        optimizer.zero_grad()\n",
    "        loss.backward()\n",
    "        optimizer.step()\n",
    "        epoch_loss += loss.detach().item()\n",
    "        total += len(label)\n",
    "        _, predicted = torch.max(prediction.data, 1)\n",
    "        total_correct += (predicted == label.data).sum().item()\n",
    "    epoch_loss /= (iter + 1)\n",
    "    acc = 1.0*total_correct / total\n",
    "    epoch_acc.append(acc)\n",
    "    epoch_losses.append(epoch_loss)\n",
    "    print('Epoch {}, loss {:.4f}, acc {:.4f}'.format(epoch, epoch_loss, acc))\n"
   ]
  },
  {
   "cell_type": "code",
   "execution_count": 59,
   "metadata": {},
   "outputs": [
    {
     "data": {
      "image/png": "[encoded data removed]",
      "text/plain": [
       "<Figure size 432x288 with 1 Axes>"
      ]
     },
     "metadata": {},
     "output_type": "display_data"
    }
   ],
   "source": [
    "plt.plot(epoch_acc, color=(0.1,0.2,0.3))\n",
    "# plt.xlim([0, 500])\n",
    "# plt.ylim([0.0, 1.05])\n",
    "plt.xlabel('epoch')\n",
    "plt.ylabel('acc')\n",
    "plt.title('epoch_acc')\n",
    "# plt.legend(loc=\"lower right\")\n",
    "plt.show()"
   ]
  },
  {
   "cell_type": "code",
   "execution_count": null,
   "metadata": {},
   "outputs": [],
   "source": []
  }
 ],
 "metadata": {
  "kernelspec": {
   "display_name": "Python [conda env:md] *",
   "language": "python",
   "name": "conda-env-md-py"
  },
  "language_info": {
   "codemirror_mode": {
    "name": "ipython",
    "version": 3
   },
   "file_extension": ".py",
   "mimetype": "text/x-python",
   "name": "python",
   "nbconvert_exporter": "python",
   "pygments_lexer": "ipython3",
   "version": "3.7.7"
  }
 },
 "nbformat": 4,
 "nbformat_minor": 4
}
