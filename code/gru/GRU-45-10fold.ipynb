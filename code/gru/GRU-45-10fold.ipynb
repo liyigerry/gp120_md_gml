{
 "cells": [
  {
   "cell_type": "code",
   "execution_count": 1,
   "metadata": {},
   "outputs": [
    {
     "name": "stderr",
     "output_type": "stream",
     "text": [
      "Using backend: pytorch\n"
     ]
    }
   ],
   "source": [
    "import os\n",
    "import pickle\n",
    "import random\n",
    "import matplotlib.pyplot  as plt\n",
    "import numpy  as np\n",
    "import time\n",
    "import torch\n",
    "from torch.autograd import Variable\n",
    "from torch.utils.data import TensorDataset, DataLoader, Dataset\n",
    "import torch.nn as nn\n",
    "from gru_dataloader import GruDataLoader, collate"
   ]
  },
  {
   "cell_type": "code",
   "execution_count": 2,
   "metadata": {},
   "outputs": [],
   "source": [
    "import math\n",
    "def time_since(since):\n",
    "    s = time.time() - since\n",
    "    m = math.floor(s / 60)\n",
    "    s -= m * 60\n",
    "    return  '%dm %ds' % (m, s)"
   ]
  },
  {
   "cell_type": "code",
   "execution_count": 3,
   "metadata": {},
   "outputs": [],
   "source": [
    "# # A4ZPX2\n",
    "# tied1_name_l = ['Q5G5V8','Q5G5V4','Q6EG58','A4ZPW4','P04578','Q4QXE8','A8CVW4','Q2MKA8','A1EAH8','A1EAI4','Q27Q69','Q70014','B2YFU9','B2YFQ5','O89960']\n",
    "# # A1EAI3\n",
    "# tied2_name_l = ['Q5G5U7','Q5G5U5','A7KVY7','Q5G5V1','B0FBI6','Q5G5V5','A1EAI2','A1EAI0','Q6TCV7','Q202K1','Q202K7','Q27Q74','A1EAI7','B2YFT0','Q8JDI3']\n",
    "# # A4ZPW9\n",
    "# tied3_name_l = ['A4ZPX1','A4ZPW7','A4ZPW8','Q5G5V2','Q5G5U6','A1EAG8','A1EAH7','A0MTL0','A1EAH6','A1EAH3','B2YFP6','B2YFP1','B2YFU4','B2YFV4','B2YFS0']\n",
    "# tied_name=tied1_name_l+tied2_name_l+tied3_name_l"
   ]
  },
  {
   "cell_type": "code",
   "execution_count": 4,
   "metadata": {},
   "outputs": [],
   "source": [
    "def read_data(paths):\n",
    "    f=open(paths,\"r\")\n",
    "    seq_dict={}\n",
    "    for line in f:\n",
    "        if line.startswith('>'):\n",
    "                name=line.replace('>','').split()[0]\n",
    "                seq_dict[name]=''\n",
    "        else:\n",
    "                seq_dict[name]+=line.replace('\\n','').strip()\n",
    "    f.close()\n",
    "    return seq_dict"
   ]
  },
  {
   "cell_type": "code",
   "execution_count": 5,
   "metadata": {},
   "outputs": [],
   "source": [
    "#datapath\n",
    "path1='/home/dldx/UniRep/datatmp/gp120_45/tier_1.fasta'\n",
    "path2='/home/dldx/UniRep/datatmp/gp120_45/tier_2.fasta'\n",
    "path3='/home/dldx/UniRep/datatmp/gp120_45/tier_3.fasta'\n",
    "\n",
    "path=[path1,path2,path3]"
   ]
  },
  {
   "cell_type": "code",
   "execution_count": 6,
   "metadata": {},
   "outputs": [],
   "source": [
    "seqs_=[]\n",
    "type_=[]\n",
    "seqs_dict={}\n",
    "for i in range(3):\n",
    "    seq_dict=read_data(path[i])\n",
    "    seqs_dict.update(seq_dict)\n",
    "    seq=list(seq_dict.values())\n",
    "    seqs_+=seq\n",
    "    type_+=[i]*len(seq)"
   ]
  },
  {
   "cell_type": "code",
   "execution_count": 7,
   "metadata": {},
   "outputs": [],
   "source": [
    "seqs_train=seqs_\n",
    "type_train=type_"
   ]
  },
  {
   "cell_type": "code",
   "execution_count": 8,
   "metadata": {},
   "outputs": [
    {
     "name": "stdout",
     "output_type": "stream",
     "text": [
      "45 45\n"
     ]
    }
   ],
   "source": [
    "print(len(seqs_train),len(type_train))"
   ]
  },
  {
   "cell_type": "code",
   "execution_count": 9,
   "metadata": {},
   "outputs": [],
   "source": [
    "class NameDataset(Dataset):\n",
    "    def __init__(self,  is_train_set= True):\n",
    "        if is_train_set:\n",
    "            seqs = seqs_train    \n",
    "            types=type_train\n",
    "        else : \n",
    "            seqs = seqs_test    \n",
    "            types=type_test\n",
    "                \n",
    "        self.x_data = seqs\n",
    "        self.y_data = types\n",
    "\n",
    "        self.len = len(self.x_data)\n",
    "        \n",
    "        self.seqs_dict = seqs_dict\n",
    "        self.type_num = len(self.y_data)\n",
    "    \n",
    "    def __getitem__(self, index):\n",
    "        #self.x_data[index], self.y_data[index]\n",
    "        #print('调用__getitem__')\n",
    "        return self.x_data[index], self.y_data[index]\n",
    "    \n",
    "    def __len__(self):\n",
    "        return self.len\n"
   ]
  },
  {
   "cell_type": "code",
   "execution_count": 10,
   "metadata": {},
   "outputs": [],
   "source": [
    "def seq2list(seq):\n",
    "    arr = [ord(c)  for c  in seq]\n",
    "    return arr, len(arr)\n"
   ]
  },
  {
   "cell_type": "code",
   "execution_count": 11,
   "metadata": {},
   "outputs": [],
   "source": [
    "def make_tensors(seqs, types):\n",
    "    sequences_and_lengths = [seq2list(seq)  for seq  in seqs]\n",
    "    name_sequences = [sl[0]  for sl  in sequences_and_lengths]\n",
    "    seq_lengths = torch.LongTensor([sl[1]  for sl  in sequences_and_lengths])\n",
    "    types = types.long()\n",
    "    \n",
    "    # make tensor of name, BatchSize x SeqLen——>paddding\n",
    "    seq_tensor = torch.zeros(len(name_sequences), seq_lengths.max()).long()\n",
    "    #print(len(seq_tensor[0]),type(seq_tensor[0]),seq_tensor[0].size(),seq_tensor[0])\n",
    "    \n",
    "    for idx, (seq, seq_len)  in enumerate(zip(name_sequences, seq_lengths), 0):\n",
    "        #print('idx:',idx)\n",
    "        #print(seq,seq_len)\n",
    "        #x=torch.LongTensor(seq)\n",
    "       # print(x,type(x),x.size())\n",
    "        seq_tensor[idx, :seq_len] = torch.LongTensor(seq)\n",
    "        \n",
    "    # sort by length to use pack_padded_sequence\n",
    "    seq_lengths, perm_idx = seq_lengths.sort(dim=0, descending= True)\n",
    "    seq_tensor = seq_tensor[perm_idx]\n",
    "    types = types[perm_idx]\n",
    "    \n",
    "    return create_tensor(seq_tensor), \\\n",
    "            create_tensor(seq_lengths),\\\n",
    "            create_tensor(types)"
   ]
  },
  {
   "cell_type": "code",
   "execution_count": 12,
   "metadata": {},
   "outputs": [],
   "source": [
    "class RNNClassifier(torch.nn.Module):\n",
    "    def __init__(self, input_size, hidden_size, output_size, n_layers,attention_size, bidirectional= True):\n",
    "        super(RNNClassifier, self).__init__()\n",
    "        self.hidden_size = hidden_size\n",
    "        self.n_layers = n_layers\n",
    "        self.layer_size=n_layers\n",
    "        self.n_directions = 2  if bidirectional  else 1\n",
    "        self.embedding = torch.nn.Embedding(input_size, hidden_size)\n",
    "        \n",
    "        self.gru = torch.nn.GRU(hidden_size, hidden_size, n_layers,\n",
    "                                bidirectional=bidirectional)\n",
    "        self.fc = torch.nn.Linear(hidden_size * self.n_directions, output_size)#torch.Size([64, 3])\n",
    "        \n",
    "\n",
    "        \n",
    "    def _init_hidden(self, batch_size):\n",
    "        hidden = torch.zeros(self.n_layers * self.n_directions,\n",
    "                             batch_size, self.hidden_size)\n",
    "        return create_tensor(hidden)\n",
    "    \n",
    "    \n",
    "    def forward(self, input, seq_lengths):\n",
    "        # input shape : B x S -> S x B\n",
    "        input = input.t()\n",
    "        batch_size = input.size(1)\n",
    "        hidden = self._init_hidden(batch_size)\n",
    "        embedding = self.embedding(input)\n",
    "        \n",
    "        # pack them up\n",
    "        gru_input = torch.nn.utils.rnn.pack_padded_sequence(embedding, seq_lengths)\n",
    "        output, hidden = self.gru(gru_input, hidden)\n",
    "        #print(output[0].shape)\n",
    "        if self.n_directions == 2:\n",
    "            hidden_cat = torch.cat([hidden[-1], hidden[-2]], dim=1)\n",
    "        else:\n",
    "            hidden_cat = hidden[-1]\n",
    "        #print(hidden_cat.shape)\n",
    "\n",
    "        fc_output = self.fc(hidden_cat)\n",
    "        return fc_output"
   ]
  },
  {
   "cell_type": "code",
   "execution_count": 13,
   "metadata": {},
   "outputs": [],
   "source": [
    "def trainModel(classifier,train_loader):\n",
    "    total_loss = 0\n",
    "    correct = 0\n",
    "    total = 0\n",
    "    for i, (seqs, types)  in enumerate(train_loader, 1):\n",
    "        #print(types)\n",
    "        inputs, seq_lengths, target = make_tensors(seqs, types)\n",
    "        #print('seq_lengths',seq_lengths)\n",
    "        output = classifier(inputs, seq_lengths)\n",
    "        #print(\"inputs:\",inputs.size())\n",
    "        #print(\"output:\",output.size())\n",
    "\n",
    "        loss = criterion(output, target)\n",
    "        optimizer.zero_grad()\n",
    "        loss.backward()\n",
    "        optimizer.step()\n",
    "        total+=len(target)\n",
    "        pred = output.max(dim=1, keepdim= True)[1]\n",
    "        correct += pred.eq(target.view_as(pred)).sum().item()\n",
    "    percent =  '%.2f' % (100 * correct / total)\n",
    "    \n",
    "    total_loss += loss.item()\n",
    "#     if 0 == 0:\n",
    "#         print( f'loss={total_loss / (i *  len (inputs))}')\n",
    "    return total_loss,percent"
   ]
  },
  {
   "cell_type": "code",
   "execution_count": 14,
   "metadata": {},
   "outputs": [],
   "source": [
    "def testModel(classifier,train_loader):\n",
    "    classifier.eval()\n",
    "    correct = 0\n",
    "    total = 0\n",
    "    targets,outputs=[],[]\n",
    "    #print( \"evaluating trained model ...\")\n",
    "    with torch.no_grad():\n",
    "        for i, (seqs, types)  in enumerate(train_loader, 1):\n",
    "            inputs, seq_lengths, target = make_tensors(seqs, types)\n",
    "\n",
    "            output = classifier(inputs, seq_lengths)\n",
    "\n",
    "            pred = output.max(dim=1, keepdim= True)[1]\n",
    "            total+=len(target)\n",
    "\n",
    "            correct += pred.eq(target.view_as(pred)).sum().item()\n",
    "            targets.append(target)\n",
    "            outputs.append(output)\n",
    "        percent =  '%.2f' % (100 * correct / total)\n",
    "#         print( f'Test set: Accuracy {correct}/{total} {percent}%')\n",
    "    classifier.train()\n",
    "    \n",
    "    return correct / total,outputs,targets"
   ]
  },
  {
   "cell_type": "code",
   "execution_count": 15,
   "metadata": {},
   "outputs": [],
   "source": [
    "# Parameters\n",
    "HIDDEN_SIZE = 32\n",
    "BATCH_SIZE = 15\n",
    "N_LAYER = 2\n",
    "N_EPOCHS =100\n",
    "N_CHARS = 128\n",
    "USE_GPU =  True\n",
    "OUT_SIZE=3\n",
    "Attention_size=16"
   ]
  },
  {
   "cell_type": "code",
   "execution_count": 16,
   "metadata": {},
   "outputs": [
    {
     "name": "stdout",
     "output_type": "stream",
     "text": [
      "cuda\n"
     ]
    }
   ],
   "source": [
    "# set up seeds, args.seed supported\n",
    "seed=2021\n",
    "torch.manual_seed(seed=seed)\n",
    "np.random.seed(seed=seed)\n",
    "\n",
    "#指定GPU\n",
    "torch.cuda.set_device(1)\n",
    "if torch.cuda.is_available():\n",
    "\n",
    "    device = torch.device(\"cuda\")\n",
    "    torch.cuda.manual_seed_all(seed=seed)\n",
    "else:\n",
    "    device = torch.device(\"cpu\")\n",
    "print(device)"
   ]
  },
  {
   "cell_type": "code",
   "execution_count": 17,
   "metadata": {},
   "outputs": [],
   "source": [
    "def create_tensor(tensor):\n",
    "    if USE_GPU:\n",
    "        device = torch.device( \"cuda\")\n",
    "        tensor = tensor.to(device)\n",
    "    return tensor"
   ]
  },
  {
   "cell_type": "code",
   "execution_count": 19,
   "metadata": {},
   "outputs": [
    {
     "name": "stdout",
     "output_type": "stream",
     "text": [
      "train_set : test_set = 40 : 5\n",
      "第0折完成,验证集准确率为0.8\n",
      "train_set : test_set = 40 : 5\n",
      "第1折完成,验证集准确率为0.4\n",
      "train_set : test_set = 40 : 5\n",
      "第2折完成,验证集准确率为0.8\n",
      "train_set : test_set = 40 : 5\n",
      "第3折完成,验证集准确率为0.6\n",
      "train_set : test_set = 40 : 5\n",
      "第4折完成,验证集准确率为0.6\n",
      "train_set : test_set = 41 : 4\n",
      "第5折完成,验证集准确率为0.5\n",
      "train_set : test_set = 41 : 4\n",
      "第6折完成,验证集准确率为0.75\n",
      "train_set : test_set = 41 : 4\n",
      "第7折完成,验证集准确率为0.5\n",
      "train_set : test_set = 41 : 4\n",
      "第8折完成,验证集准确率为0.5\n",
      "train_set : test_set = 41 : 4\n",
      "第9折完成,验证集准确率为0.5\n",
      "运行时间:299.96秒\n",
      "work down!\n"
     ]
    }
   ],
   "source": [
    "dataset=NameDataset(is_train_set= True)\n",
    "if USE_GPU:\n",
    "    device = torch.device( \"cuda\")\n",
    "\n",
    "train_l,test_l=[],[]\n",
    "datalist=[]\n",
    "draw_train=[]\n",
    "start = time.time()\n",
    "for fold_idx in range(10):\n",
    "    \n",
    "    classifier = RNNClassifier(N_CHARS, HIDDEN_SIZE, OUT_SIZE , N_LAYER,Attention_size).to(device)\n",
    "    criterion = torch.nn.CrossEntropyLoss()\n",
    "    optimizer = torch.optim.Adam(classifier.parameters(), lr=0.001)\n",
    "    \n",
    "    train_loader,valid_loader = GruDataLoader(dataset, batch_size=45, device=device,\n",
    "                                                collate_fn=collate, seed=2021, shuffle=True,\n",
    "                                                split_name='fold10', fold_idx=fold_idx).train_valid_loader()\n",
    "    train_loss,draw_acc=[],[]\n",
    "    valid_acc_tmp=0\n",
    "    for epoch  in range(1, N_EPOCHS + 1):\n",
    "        # Train cycle\n",
    "    \n",
    "        los,_=trainModel(classifier,train_loader)\n",
    "\n",
    "        valid_acc,outputs,targets = testModel(classifier,valid_loader)\n",
    "        draw_acc.append(valid_acc)\n",
    "        train_loss.append(los)\n",
    "        if valid_acc > valid_acc_tmp:\n",
    "            valid_acc_tmp=valid_acc   \n",
    "    datalist.append([valid_acc_tmp,targets,outputs])\n",
    "    draw_train.append([train_loss,draw_acc])\n",
    "    print(\"第{}折完成,验证集准确率为{}\".format(fold_idx,valid_acc_tmp)) \n",
    "\n",
    "loss_acc='gru_acc_10fold_45.p'\n",
    "with open(loss_acc, 'wb') as f:\n",
    "    pickle.dump(datalist, f)\n",
    "end = time.time()\n",
    "print(\"运行时间:%.2f秒\"%(end-start))      \n",
    "print(\"work down!\")"
   ]
  },
  {
   "cell_type": "code",
   "execution_count": 20,
   "metadata": {},
   "outputs": [
    {
     "name": "stdout",
     "output_type": "stream",
     "text": [
      "0.595\n"
     ]
    }
   ],
   "source": [
    "\n",
    "all_info=datalist\n",
    "\n",
    "acc=[]\n",
    "for i in range(10):\n",
    "    \n",
    "    acc.append(all_info[i][0])\n",
    "print(np.mean(acc))"
   ]
  },
  {
   "cell_type": "code",
   "execution_count": 21,
   "metadata": {},
   "outputs": [
    {
     "data": {
      "text/plain": [
       "0.135"
      ]
     },
     "execution_count": 21,
     "metadata": {},
     "output_type": "execute_result"
    }
   ],
   "source": [
    "np.std(acc)"
   ]
  },
  {
   "cell_type": "code",
   "execution_count": null,
   "metadata": {},
   "outputs": [],
   "source": [
    "plt.plot(draw_acc)\n",
    "plt.xlabel( 'Epoch')\n",
    "plt.ylabel( 'acc')\n",
    "plt.grid()\n",
    "plt.show()"
   ]
  },
  {
   "cell_type": "code",
   "execution_count": 26,
   "metadata": {},
   "outputs": [
    {
     "data": {
      "image/png": "[encoded data removed]",
      "text/plain": [
       "<Figure size 432x288 with 1 Axes>"
      ]
     },
     "metadata": {},
     "output_type": "display_data"
    }
   ],
   "source": [
    "plt.plot(train_loss)\n",
    "plt.xlabel( 'Epoch')\n",
    "plt.ylabel( 'acc')\n",
    "plt.grid()\n",
    "plt.show()"
   ]
  },
  {
   "cell_type": "code",
   "execution_count": 22,
   "metadata": {},
   "outputs": [
    {
     "data": {
      "text/plain": [
       "[tensor([[-1.0969,  2.4106, -2.4007],\n",
       "         [ 0.5064,  0.5361, -1.3624],\n",
       "         [-2.0660, -0.6079,  3.0787],\n",
       "         [-1.1744,  2.3671, -2.3238],\n",
       "         [-0.6723,  1.1544, -1.1857]], device='cuda:1')]"
      ]
     },
     "execution_count": 22,
     "metadata": {},
     "output_type": "execute_result"
    }
   ],
   "source": [
    "all_info[0][2]"
   ]
  },
  {
   "cell_type": "code",
   "execution_count": 23,
   "metadata": {},
   "outputs": [
    {
     "ename": "NameError",
     "evalue": "name 'score' is not defined",
     "output_type": "error",
     "traceback": [
      "\u001b[0;31m---------------------------------------------------------------------------\u001b[0m",
      "\u001b[0;31mNameError\u001b[0m                                 Traceback (most recent call last)",
      "\u001b[0;32m<ipython-input-23-d2d780e36333>\u001b[0m in \u001b[0;36m<module>\u001b[0;34m()\u001b[0m\n\u001b[0;32m----> 1\u001b[0;31m \u001b[0mscore\u001b[0m\u001b[0;34m\u001b[0m\u001b[0;34m\u001b[0m\u001b[0m\n\u001b[0m",
      "\u001b[0;31mNameError\u001b[0m: name 'score' is not defined"
     ]
    }
   ],
   "source": [
    "score"
   ]
  },
  {
   "cell_type": "code",
   "execution_count": null,
   "metadata": {},
   "outputs": [],
   "source": [
    "label"
   ]
  },
  {
   "cell_type": "code",
   "execution_count": null,
   "metadata": {},
   "outputs": [],
   "source": [
    "from itertools import cycle\n",
    "from sklearn import svm, datasets\n",
    "from sklearn.metrics import roc_curve, auc\n",
    "from sklearn.model_selection import train_test_split\n",
    "from sklearn.preprocessing import label_binarize\n",
    "from sklearn.multiclass import OneVsRestClassifier\n",
    "from scipy import interp\n",
    "from sklearn.metrics import roc_auc_score"
   ]
  },
  {
   "cell_type": "code",
   "execution_count": null,
   "metadata": {},
   "outputs": [],
   "source": [
    "all_rocauc=[]\n",
    "AP=[]\n",
    "for k in range(10):\n",
    "    \n",
    "    score=(all_info[k][2][0].cpu().numpy())\n",
    "    label=(all_info[k][1][0].cpu().numpy())\n",
    "    label=label_binarize(label, classes=[0, 1, 2])\n",
    "    # Compute ROC curve and ROC area for each class\n",
    "    fpr = dict()\n",
    "    tpr = dict()\n",
    "    roc_auc = dict()\n",
    "    y_test,y_score=label,score\n",
    "    for i in range(3):\n",
    "        fpr[i], tpr[i], _ = roc_curve(y_test[:, i], y_score[:, i])\n",
    "        roc_auc[i] = auc(fpr[i], tpr[i])\n",
    "    \n",
    "\n",
    "    # Compute micro-average ROC curve and ROC area\n",
    "    fpr[\"micro\"], tpr[\"micro\"], _ = roc_curve(y_test.ravel(), y_score.ravel())\n",
    "    roc_auc[\"micro\"] = auc(fpr[\"micro\"], tpr[\"micro\"])\n",
    "    print(roc_auc[\"micro\"])\n",
    "    all_rocauc.append(roc_auc[\"micro\"])\n",
    "    #=========================================\n",
    "    Y_test,y_score=y_test,y_score\n",
    "    n_classes=3\n",
    "# For each class\n",
    "    precision = dict()\n",
    "    recall = dict()\n",
    "    average_precision = dict()\n",
    "    for i in range(n_classes):\n",
    "        precision[i], recall[i], _ = precision_recall_curve(Y_test[:, i],\n",
    "                                                        y_score[:, i])\n",
    "        average_precision[i] = average_precision_score(Y_test[:, i], y_score[:, i])\n",
    "\n",
    "    # A \"micro-average\": quantifying score on all classes jointly\n",
    "    precision[\"micro\"], recall[\"micro\"], _ = precision_recall_curve(Y_test.ravel(),\n",
    "        y_score.ravel())\n",
    "    average_precision[\"micro\"] = average_precision_score(Y_test, y_score,\n",
    "                                                     average=\"micro\")\n",
    "    AP.append(average_precision[\"micro\"])\n",
    "    print('Average precision score, micro-averaged over all classes: {0:0.2f}'\n",
    "          .format(average_precision[\"micro\"]))\n",
    "print(np.mean(AP),np.std(AP))"
   ]
  },
  {
   "cell_type": "code",
   "execution_count": null,
   "metadata": {},
   "outputs": [],
   "source": [
    "np.mean([0.6,0.3,0.56,0.24,0.4,0.75,0.84375,0.125,0.34375,0.625])"
   ]
  },
  {
   "cell_type": "code",
   "execution_count": null,
   "metadata": {},
   "outputs": [],
   "source": [
    "np.std(all_rocauc)"
   ]
  },
  {
   "cell_type": "code",
   "execution_count": null,
   "metadata": {},
   "outputs": [],
   "source": [
    "print(np.mean(AP),np.std(AP))"
   ]
  },
  {
   "cell_type": "code",
   "execution_count": null,
   "metadata": {},
   "outputs": [],
   "source": [
    "plt.figure()\n",
    "lw = 2\n",
    "plt.plot(fpr[1], tpr[1], color='aqua',\n",
    "         lw=lw, label='ROC curve (AUC = %0.2f)' % roc_auc[2])\n",
    "\n",
    "plt.plot([0, 1], [0, 1], color='navy', lw=lw, linestyle='--')\n",
    "\n",
    "plt.xlim([-0.01, 1.0])\n",
    "plt.ylim([-0.01, 1.02])\n",
    "plt.xlabel('False Positive Rate')\n",
    "plt.ylabel('True Positive Rate')\n",
    "plt.title('Receiver operating characteristic example')\n",
    "plt.legend(loc=\"lower right\")\n",
    "#plt.savefig('ROC_all.png',format='png',dpi=300)"
   ]
  },
  {
   "cell_type": "code",
   "execution_count": null,
   "metadata": {},
   "outputs": [],
   "source": [
    "from sklearn.metrics import precision_recall_curve\n",
    "from sklearn.metrics import average_precision_score\n",
    "\n",
    "Y_test,y_score=y_test,y_score\n",
    "n_classes=3\n",
    "# For each class\n",
    "precision = dict()\n",
    "recall = dict()\n",
    "average_precision = dict()\n",
    "for i in range(n_classes):\n",
    "    precision[i], recall[i], _ = precision_recall_curve(Y_test[:, i],\n",
    "                                                        y_score[:, i])\n",
    "    average_precision[i] = average_precision_score(Y_test[:, i], y_score[:, i])\n",
    "\n",
    "# A \"micro-average\": quantifying score on all classes jointly\n",
    "precision[\"micro\"], recall[\"micro\"], _ = precision_recall_curve(Y_test.ravel(),\n",
    "    y_score.ravel())\n",
    "average_precision[\"micro\"] = average_precision_score(Y_test, y_score,\n",
    "                                                     average=\"micro\")\n",
    "print('Average precision score, micro-averaged over all classes: {0:0.2f}'\n",
    "      .format(average_precision[\"micro\"]))"
   ]
  },
  {
   "cell_type": "code",
   "execution_count": null,
   "metadata": {},
   "outputs": [],
   "source": [
    "plt.figure()\n",
    "plt.step(recall['micro'], precision['micro'], where='post')\n",
    "\n",
    "plt.xlabel('Recall')\n",
    "plt.ylabel('Precision')\n",
    "plt.ylim([0.0, 1.05])\n",
    "plt.xlim([0.0, 1.0])\n",
    "plt.title(\n",
    "    'Average precision score, micro-averaged over all classes: AP={0:0.2f}'\n",
    "    .format(average_precision[\"micro\"]))\n",
    "#plt.savefig('Average precision score.png',format='png',dpi=300)"
   ]
  },
  {
   "cell_type": "code",
   "execution_count": null,
   "metadata": {},
   "outputs": [],
   "source": [
    "#Recording the accuracy of testing.\n",
    "for i in range(10):\n",
    "    acc_list=train_l[i]\n",
    "    epoch = np.arange(1, len(acc_list) + 1, 1)\n",
    "    acc_list = np.array(acc_list)\n",
    "    plt.plot(epoch, acc_list)\n",
    "plt.xlabel( 'Epoch')\n",
    "plt.ylabel( 'Accuracy')\n",
    "plt.grid()\n",
    "plt.show()"
   ]
  },
  {
   "cell_type": "code",
   "execution_count": null,
   "metadata": {},
   "outputs": [],
   "source": [
    "#Recording the accuracy of testing.\n",
    "acc_max=[]\n",
    "for i in range(10):\n",
    "    acc_list=test_l[i]\n",
    "    acc_max.append(max(acc_list))\n",
    "\n",
    "    epoch = np.arange(1, len(acc_list) + 1, 1)\n",
    "    acc_list = np.array(acc_list)\n",
    "    plt.plot(epoch, acc_list)\n",
    "plt.xlabel( 'Epoch')\n",
    "plt.ylabel( 'Accuracy')\n",
    "plt.grid()\n",
    "plt.show()\n",
    "print(np.mean(acc_max))"
   ]
  },
  {
   "cell_type": "code",
   "execution_count": null,
   "metadata": {},
   "outputs": [],
   "source": [
    "for i, (seqs, types)  in enumerate(train_loader, 1):\n",
    "    inputs, seq_lengths, target = make_tensors(seqs, types)\n"
   ]
  },
  {
   "cell_type": "code",
   "execution_count": null,
   "metadata": {},
   "outputs": [],
   "source": [
    "def test_Model(classifier):\n",
    "    classifier.eval()\n",
    "    correct = 0\n",
    "    total = 0\n",
    "    print( \"evaluating trained model ...\")\n",
    "    with torch.no_grad():\n",
    "        for i, (seqs, types)  in enumerate(valid_loader, 1):\n",
    "            inputs, seq_lengths, target = make_tensors(seqs, types)\n",
    "\n",
    "            output = classifier(inputs, seq_lengths)\n",
    "\n",
    "            pred = output.max(dim=1, keepdim= True)[1]\n",
    "            print(target)\n",
    "            total+=len(target)\n",
    "            \n",
    "            correct += pred.eq(target.view_as(pred)).sum().item()\n",
    "        percent =  '%.2f' % (100 * correct / total)\n",
    "        print( f'Test set: Accuracy {correct}/{total} {percent}%')\n",
    "    classifier.train()\n",
    "    \n",
    "    return correct / total\n",
    "test_Model(classifier)"
   ]
  },
  {
   "cell_type": "code",
   "execution_count": null,
   "metadata": {},
   "outputs": [],
   "source": [
    "#Recording the accuracy of testing.\n",
    "epoch = np.arange(1, len(losses) + 1, 1)\n",
    "loss = np.array(losses)\n",
    "plt.plot(epoch, loss)\n",
    "plt.xlabel( 'Epoch')\n",
    "plt.ylabel( 'loss')\n",
    "plt.grid()\n",
    "plt.show()"
   ]
  },
  {
   "cell_type": "code",
   "execution_count": null,
   "metadata": {},
   "outputs": [],
   "source": [
    "from sklearn.dummy import DummyClassifier\n",
    "from sklearn.model_selection import cross_val_score\n",
    "clf = DummyClassifier()\n",
    "\n",
    "scores = cross_val_score(clf, inputs.cpu(), target.cpu())\n",
    "scores\n",
    "print(\"Dummy classifier score: %0.3f (+/- %0.2f)\" % (scores.mean(), scores.std() * 2))"
   ]
  },
  {
   "cell_type": "code",
   "execution_count": null,
   "metadata": {},
   "outputs": [],
   "source": [
    "print(evalModel(classifier))"
   ]
  },
  {
   "cell_type": "code",
   "execution_count": null,
   "metadata": {},
   "outputs": [],
   "source": [
    "with open('qq.txt','r') as f:\n",
    "    dd=f.read()"
   ]
  },
  {
   "cell_type": "code",
   "execution_count": null,
   "metadata": {},
   "outputs": [],
   "source": [
    "ii=list(dd.split())"
   ]
  },
  {
   "cell_type": "code",
   "execution_count": null,
   "metadata": {},
   "outputs": [],
   "source": [
    "print(ii)"
   ]
  },
  {
   "cell_type": "code",
   "execution_count": null,
   "metadata": {},
   "outputs": [],
   "source": []
  }
 ],
 "metadata": {
  "kernelspec": {
   "display_name": "Python [conda env:md] *",
   "language": "python",
   "name": "conda-env-md-py"
  },
  "language_info": {
   "codemirror_mode": {
    "name": "ipython",
    "version": 3
   },
   "file_extension": ".py",
   "mimetype": "text/x-python",
   "name": "python",
   "nbconvert_exporter": "python",
   "pygments_lexer": "ipython3",
   "version": "3.7.7"
  }
 },
 "nbformat": 4,
 "nbformat_minor": 4
}
